{
 "cells": [
  {
   "cell_type": "markdown",
   "metadata": {},
   "source": [
    "# Movies Correlation Analysis"
   ]
  },
  {
   "cell_type": "code",
   "execution_count": null,
   "metadata": {},
   "outputs": [],
   "source": [
    "import hashlib \n",
    "import pandas as pd\n",
    "from pandas_profiling import ProfileReport\n",
    "\n",
    "df_boxoffice = pd.read_csv('./data/boxoffice.csv')\n",
    "df_metadata = pd.read_csv('./data/movies_metadata.csv.zip')\n",
    "#simple EDA for boxoffice dataset\n",
    "eda_boxoffice = ProfileReport(df_boxoffice)\n",
    "eda_boxoffice.to_file(output_file='./eda/boxoffice_eda.html')\n",
    "#simple EDA for metadata dataset\n",
    "eda_metadata = ProfileReport(df_metadata)\n",
    "eda_metadata.to_file(output_file='./eda/metadata_eda.html')\n",
    "#small transformations for boxoffice\n",
    "df_boxoffice['id'] = df_boxoffice.apply(lambda x: hashlib.md5(x['title'].replace(\" \", \"\").lower().encode()+str(x['year']).encode()).hexdigest() , axis=1)\n",
    "del df_boxoffice['rank']\n",
    "del df_boxoffice['studio']\n",
    "#some transformations for the metadata dataset\n",
    "df_metadata.dropna(subset = ['release_date', 'title'], inplace=True)\n",
    "df_metadata['budget'] = pd.to_numeric(df_metadata['budget'])\n",
    "df_metadata['year'] = df_metadata.apply(lambda x: str(x['release_date'])[0:4], axis=1)\n",
    "df_metadata['id'] = df_metadata.apply(lambda x: hashlib.md5(x['title'].replace(\" \", \"\").lower().encode()+str(x['year']).encode()).hexdigest() , axis=1)\n",
    "df_metadata = (df_metadata.loc[df_metadata['budget'] > 0][['id','title','year','budget','vote_average','vote_count']]).copy()\n",
    "#merged dataset\n",
    "df = df_metadata.join(df_boxoffice.set_index('id'), on='id', lsuffix='_metadata', rsuffix='_boxoffice')\n",
    "df.dropna(subset = ['title_boxoffice'], inplace=True)\n",
    "df.drop_duplicates(subset=['id'], inplace=True)\n",
    "#automatic EDA with correlations between vars calculated on the merged dataset \n",
    "eda_df = ProfileReport(df)\n",
    "eda_df.to_file(output_file='./eda/df_eda.html')"
   ]
  },
  {
   "cell_type": "code",
   "execution_count": null,
   "metadata": {},
   "outputs": [],
   "source": [
    "\n",
    "df_boxoffice['id'] = df_boxoffice.apply(lambda x: hashlib.md5(x['title'].replace(\" \", \"\").lower().encode()+str(x['year']).encode()).hexdigest() , axis=1)\n",
    "del df_boxoffice['rank']\n",
    "del df_boxoffice['studio']\n",
    "df_boxoffice"
   ]
  },
  {
   "cell_type": "code",
   "execution_count": null,
   "metadata": {},
   "outputs": [],
   "source": [
    "df_metadata = pd.read_csv('./data/movies_metadata.csv.zip')\n",
    "df_metadata"
   ]
  },
  {
   "cell_type": "code",
   "execution_count": null,
   "metadata": {},
   "outputs": [],
   "source": [
    "df_metadata.dropna(subset = ['release_date', 'title'], inplace=True)\n",
    "df_metadata['budget'] = pd.to_numeric(df_metadata['budget'])\n",
    "df_metadata['year'] = df_metadata.apply(lambda x: str(x['release_date'])[0:4], axis=1)\n",
    "df_metadata['id'] = df_metadata.apply(lambda x: hashlib.md5(x['title'].replace(\" \", \"\").lower().encode()+str(x['year']).encode()).hexdigest() , axis=1)\n",
    "df_metadata = (df_metadata.loc[df_metadata['budget'] > 0][['id','title','year','budget','vote_average','vote_count']]).copy()\n",
    "df_metadata"
   ]
  },
  {
   "cell_type": "code",
   "execution_count": null,
   "metadata": {},
   "outputs": [],
   "source": [
    "df = df_metadata.join(df_boxoffice.set_index('id'), on='id', lsuffix='_metadata', rsuffix='_boxoffice')\n",
    "df.dropna(subset = ['title_boxoffice'], inplace=True)\n",
    "df.drop_duplicates(subset=['id'], inplace=True)\n",
    "df"
   ]
  },
  {
   "cell_type": "code",
   "execution_count": null,
   "metadata": {},
   "outputs": [],
   "source": [
    "eda_df = ProfileReport(df)\n",
    "eda_df.to_file(output_file='./eda/df_eda.html')"
   ]
  }
 ],
 "metadata": {
  "kernelspec": {
   "display_name": "Python 3",
   "language": "python",
   "name": "python3"
  },
  "language_info": {
   "codemirror_mode": {
    "name": "ipython",
    "version": 3
   },
   "file_extension": ".py",
   "mimetype": "text/x-python",
   "name": "python",
   "nbconvert_exporter": "python",
   "pygments_lexer": "ipython3",
   "version": "3.8.5"
  }
 },
 "nbformat": 4,
 "nbformat_minor": 4
}
